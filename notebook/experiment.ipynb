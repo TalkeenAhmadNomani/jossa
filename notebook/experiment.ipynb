{
 "cells": [
  {
   "cell_type": "code",
   "execution_count": 1,
   "id": "213ea4b5",
   "metadata": {},
   "outputs": [
    {
     "name": "stdout",
     "output_type": "stream",
     "text": [
      "hi\n"
     ]
    }
   ],
   "source": [
    "print(\"hi\")"
   ]
  },
  {
   "cell_type": "code",
   "execution_count": 1,
   "id": "0ea3ab6d",
   "metadata": {},
   "outputs": [],
   "source": [
    "import numpy as np\n",
    "import pandas as pd\n",
    "import matplotlib.pyplot as plt\n",
    "import seaborn as sns\n",
    "from imblearn.over_sampling import RandomOverSampler\n",
    "sns.set(style='whitegrid')\n",
    "\n",
    "import warnings\n",
    "warnings.filterwarnings(\"ignore\")"
   ]
  },
  {
   "cell_type": "code",
   "execution_count": 7,
   "id": "c395b9d4",
   "metadata": {},
   "outputs": [],
   "source": [
    "df_iit_2022 = pd.read_csv(\"./data/ranks2022.csv\")\n",
    "df_iit_2023 = pd.read_csv(\"./data/ranks2023.csv\")\n",
    "df_iit_2024 = pd.read_csv(\"./data/ranks2024.csv\")\n",
    "        \n",
    "df_nit_2022 = pd.read_csv(\"./data/nits2022.csv\")\n",
    "df_nit_2023 = pd.read_csv(\"./data/nits2023.csv\")\n",
    "df_nit_2024 = pd.read_csv(\"./data/nits2024.csv\")\n",
    "        \n",
    "df_iiit_2022 = pd.read_csv(\"./data/IIITs2022.csv\")\n",
    "df_iiit_2023 = pd.read_csv(\"./data/IIITs2023.csv\")\n",
    "df_iiit_2024 = pd.read_csv(\"./data/IIITs2024.csv\")\n",
    "        \n",
    "df_gfti_2022 = pd.read_csv(\"./data/GFTIs2022.csv\")\n",
    "df_gfti_2023 = pd.read_csv(\"./data/GFTIs2023.csv\")\n",
    "df_gfti_2024 = pd.read_csv(\"./data/GFTIs2024.csv\")"
   ]
  },
  {
   "cell_type": "code",
   "execution_count": 8,
   "id": "ab535a60",
   "metadata": {},
   "outputs": [
    {
     "data": {
      "text/html": [
       "<div>\n",
       "<style scoped>\n",
       "    .dataframe tbody tr th:only-of-type {\n",
       "        vertical-align: middle;\n",
       "    }\n",
       "\n",
       "    .dataframe tbody tr th {\n",
       "        vertical-align: top;\n",
       "    }\n",
       "\n",
       "    .dataframe thead th {\n",
       "        text-align: right;\n",
       "    }\n",
       "</style>\n",
       "<table border=\"1\" class=\"dataframe\">\n",
       "  <thead>\n",
       "    <tr style=\"text-align: right;\">\n",
       "      <th></th>\n",
       "      <th>Institute</th>\n",
       "      <th>Program</th>\n",
       "      <th>Seat Type</th>\n",
       "      <th>Gender</th>\n",
       "      <th>OR</th>\n",
       "      <th>CR</th>\n",
       "    </tr>\n",
       "  </thead>\n",
       "  <tbody>\n",
       "    <tr>\n",
       "      <th>0</th>\n",
       "      <td>IIT Bhubaneswar</td>\n",
       "      <td>Civil Engineering (4 Years, B. Tech)</td>\n",
       "      <td>OPEN</td>\n",
       "      <td>Gender-Neutral</td>\n",
       "      <td>9193</td>\n",
       "      <td>13624</td>\n",
       "    </tr>\n",
       "    <tr>\n",
       "      <th>1</th>\n",
       "      <td>IIT Bhubaneswar</td>\n",
       "      <td>Civil Engineering (4 Years, B. Tech)</td>\n",
       "      <td>OPEN</td>\n",
       "      <td>Female-only (including Supernumerary)</td>\n",
       "      <td>16138</td>\n",
       "      <td>21674</td>\n",
       "    </tr>\n",
       "    <tr>\n",
       "      <th>2</th>\n",
       "      <td>IIT Bhubaneswar</td>\n",
       "      <td>Civil Engineering (4 Years, B. Tech)</td>\n",
       "      <td>EWS</td>\n",
       "      <td>Gender-Neutral</td>\n",
       "      <td>1907</td>\n",
       "      <td>2171</td>\n",
       "    </tr>\n",
       "    <tr>\n",
       "      <th>3</th>\n",
       "      <td>IIT Bhubaneswar</td>\n",
       "      <td>Civil Engineering (4 Years, B. Tech)</td>\n",
       "      <td>EWS</td>\n",
       "      <td>Female-only (including Supernumerary)</td>\n",
       "      <td>3334</td>\n",
       "      <td>3334</td>\n",
       "    </tr>\n",
       "    <tr>\n",
       "      <th>4</th>\n",
       "      <td>IIT Bhubaneswar</td>\n",
       "      <td>Civil Engineering (4 Years, B. Tech)</td>\n",
       "      <td>OBC-NCL</td>\n",
       "      <td>Gender-Neutral</td>\n",
       "      <td>4094</td>\n",
       "      <td>4615</td>\n",
       "    </tr>\n",
       "  </tbody>\n",
       "</table>\n",
       "</div>"
      ],
      "text/plain": [
       "         Institute                               Program Seat Type  \\\n",
       "0  IIT Bhubaneswar  Civil Engineering (4 Years, B. Tech)      OPEN   \n",
       "1  IIT Bhubaneswar  Civil Engineering (4 Years, B. Tech)      OPEN   \n",
       "2  IIT Bhubaneswar  Civil Engineering (4 Years, B. Tech)       EWS   \n",
       "3  IIT Bhubaneswar  Civil Engineering (4 Years, B. Tech)       EWS   \n",
       "4  IIT Bhubaneswar  Civil Engineering (4 Years, B. Tech)   OBC-NCL   \n",
       "\n",
       "                                  Gender     OR     CR  \n",
       "0                         Gender-Neutral   9193  13624  \n",
       "1  Female-only (including Supernumerary)  16138  21674  \n",
       "2                         Gender-Neutral   1907   2171  \n",
       "3  Female-only (including Supernumerary)   3334   3334  \n",
       "4                         Gender-Neutral   4094   4615  "
      ]
     },
     "execution_count": 8,
     "metadata": {},
     "output_type": "execute_result"
    }
   ],
   "source": [
    "df_iit_2022.head()"
   ]
  },
  {
   "cell_type": "code",
   "execution_count": null,
   "id": "603f3a19",
   "metadata": {},
   "outputs": [],
   "source": []
  }
 ],
 "metadata": {
  "kernelspec": {
   "display_name": "jossa",
   "language": "python",
   "name": "python3"
  },
  "language_info": {
   "codemirror_mode": {
    "name": "ipython",
    "version": 3
   },
   "file_extension": ".py",
   "mimetype": "text/x-python",
   "name": "python",
   "nbconvert_exporter": "python",
   "pygments_lexer": "ipython3",
   "version": "3.10.16"
  }
 },
 "nbformat": 4,
 "nbformat_minor": 5
}
